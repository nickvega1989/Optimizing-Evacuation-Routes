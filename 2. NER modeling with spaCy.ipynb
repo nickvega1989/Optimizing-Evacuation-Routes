{
 "cells": [
  {
   "cell_type": "code",
   "execution_count": 1,
   "metadata": {},
   "outputs": [],
   "source": [
    "import matplotlib.pyplot as plt\n",
    "from collections import Counter\n",
    "from sklearn import metrics\n",
    "from sklearn.linear_model import LinearRegression\n",
    "import seaborn as sns\n",
    "from mpl_toolkits.mplot3d import Axes3D  \n",
    "from matplotlib import cm\n",
    "import matplotlib.pyplot as plt\n",
    "\n",
    "\n",
    "import warnings\n",
    "warnings.filterwarnings('ignore')"
   ]
  },
  {
   "cell_type": "code",
   "execution_count": 3,
   "metadata": {},
   "outputs": [],
   "source": [
    "#Libraries\n",
    "from collections import Counter\n",
    "from sklearn import metrics\n",
    "from sklearn.linear_model import LinearRegression\n",
    "import seaborn as sns\n",
    "from mpl_toolkits.mplot3d import Axes3D  \n",
    "from matplotlib import cm\n",
    "import statsmodels.api as sm\n",
    "import statsmodels.stats.weightstats as sms\n",
    "from sklearn.model_selection import train_test_split, cross_val_score, cross_val_predict\n",
    "from sklearn.metrics import r2_score\n",
    "from sklearn.linear_model import LassoCV, RidgeCV, ElasticNetCV, LogisticRegression\n",
    "from sklearn.preprocessing import StandardScaler, PowerTransformer,LabelEncoder \n",
    "from sklearn.tree import DecisionTreeClassifier, DecisionTreeRegressor\n",
    "from sklearn.model_selection import GridSearchCV\n",
    "from sklearn.metrics import confusion_matrix\n",
    "from sklearn.neighbors import KNeighborsClassifier\n",
    "from sklearn.model_selection import train_test_split, cross_val_score\n",
    "from sklearn.linear_model import LassoCV, RidgeCV, ElasticNetCV \n",
    "from sklearn.ensemble import BaggingClassifier, BaggingRegressor, RandomForestRegressor, AdaBoostRegressor \n",
    "from sklearn.ensemble import RandomForestRegressor, RandomForestClassifier, ExtraTreesClassifier, AdaBoostClassifier\n",
    "from sklearn.svm import SVR, SVC\n",
    "from sklearn.metrics import roc_auc_score\n",
    "import pandas as pd\n",
    "%matplotlib inline\n",
    "## change the number of columns visible in the notebook \n",
    "pd.set_option('max_columns', 99)"
   ]
  },
  {
   "cell_type": "code",
   "execution_count": 4,
   "metadata": {},
   "outputs": [],
   "source": [
    "final = pd.read_csv('final_data_for_modeling.csv')"
   ]
  },
  {
   "cell_type": "code",
   "execution_count": 5,
   "metadata": {},
   "outputs": [
    {
     "data": {
      "text/html": [
       "<div>\n",
       "<style scoped>\n",
       "    .dataframe tbody tr th:only-of-type {\n",
       "        vertical-align: middle;\n",
       "    }\n",
       "\n",
       "    .dataframe tbody tr th {\n",
       "        vertical-align: top;\n",
       "    }\n",
       "\n",
       "    .dataframe thead th {\n",
       "        text-align: right;\n",
       "    }\n",
       "</style>\n",
       "<table border=\"1\" class=\"dataframe\">\n",
       "  <thead>\n",
       "    <tr style=\"text-align: right;\">\n",
       "      <th></th>\n",
       "      <th>tweet</th>\n",
       "      <th>class</th>\n",
       "      <th>date_posted</th>\n",
       "    </tr>\n",
       "  </thead>\n",
       "  <tbody>\n",
       "    <tr>\n",
       "      <th>0</th>\n",
       "      <td>If you are heading to  and beyond going SB on ...</td>\n",
       "      <td>0</td>\n",
       "      <td>2017-12-13 23:22:50+00:00</td>\n",
       "    </tr>\n",
       "    <tr>\n",
       "      <th>1</th>\n",
       "      <td>Due to bridge repairs, TxDOT has closed two al...</td>\n",
       "      <td>0</td>\n",
       "      <td>2017-12-13 01:35:30+00:00</td>\n",
       "    </tr>\n",
       "    <tr>\n",
       "      <th>2</th>\n",
       "      <td>Good news. All mainlanes of I-45 N Frwy NB bet...</td>\n",
       "      <td>0</td>\n",
       "      <td>2017-12-04 02:46:13+00:00</td>\n",
       "    </tr>\n",
       "    <tr>\n",
       "      <th>3</th>\n",
       "      <td>I-45 Northbound direct connector project conti...</td>\n",
       "      <td>0</td>\n",
       "      <td>2017-12-01 14:49:35+00:00</td>\n",
       "    </tr>\n",
       "    <tr>\n",
       "      <th>4</th>\n",
       "      <td>Two incident on I-10 Katy Frwy are significant...</td>\n",
       "      <td>0</td>\n",
       "      <td>2017-11-28 22:18:29+00:00</td>\n",
       "    </tr>\n",
       "  </tbody>\n",
       "</table>\n",
       "</div>"
      ],
      "text/plain": [
       "                                               tweet  class  \\\n",
       "0  If you are heading to  and beyond going SB on ...      0   \n",
       "1  Due to bridge repairs, TxDOT has closed two al...      0   \n",
       "2  Good news. All mainlanes of I-45 N Frwy NB bet...      0   \n",
       "3  I-45 Northbound direct connector project conti...      0   \n",
       "4  Two incident on I-10 Katy Frwy are significant...      0   \n",
       "\n",
       "                 date_posted  \n",
       "0  2017-12-13 23:22:50+00:00  \n",
       "1  2017-12-13 01:35:30+00:00  \n",
       "2  2017-12-04 02:46:13+00:00  \n",
       "3  2017-12-01 14:49:35+00:00  \n",
       "4  2017-11-28 22:18:29+00:00  "
      ]
     },
     "execution_count": 5,
     "metadata": {},
     "output_type": "execute_result"
    }
   ],
   "source": [
    "final.head()"
   ]
  },
  {
   "cell_type": "code",
   "execution_count": 6,
   "metadata": {},
   "outputs": [
    {
     "data": {
      "text/plain": [
       "(15476, 3)"
      ]
     },
     "execution_count": 6,
     "metadata": {},
     "output_type": "execute_result"
    }
   ],
   "source": [
    "final.shape"
   ]
  },
  {
   "cell_type": "code",
   "execution_count": 7,
   "metadata": {},
   "outputs": [],
   "source": [
    "final.drop_duplicates(keep='first', inplace=True)"
   ]
  },
  {
   "cell_type": "code",
   "execution_count": 8,
   "metadata": {},
   "outputs": [
    {
     "data": {
      "text/plain": [
       "(14513, 3)"
      ]
     },
     "execution_count": 8,
     "metadata": {},
     "output_type": "execute_result"
    }
   ],
   "source": [
    "final.shape"
   ]
  },
  {
   "cell_type": "code",
   "execution_count": 9,
   "metadata": {},
   "outputs": [],
   "source": [
    "X = final['tweet'] # features\n",
    "y = final['class'] # targettweets"
   ]
  },
  {
   "cell_type": "code",
   "execution_count": 10,
   "metadata": {},
   "outputs": [],
   "source": [
    "import spacy"
   ]
  },
  {
   "cell_type": "code",
   "execution_count": 11,
   "metadata": {},
   "outputs": [],
   "source": [
    "nlp = spacy.load('en_core_web_sm')"
   ]
  },
  {
   "cell_type": "code",
   "execution_count": 12,
   "metadata": {},
   "outputs": [],
   "source": [
    "tweet1 = nlp(X.loc[0])"
   ]
  },
  {
   "cell_type": "code",
   "execution_count": 13,
   "metadata": {},
   "outputs": [
    {
     "data": {
      "text/plain": [
       "If you are heading to  and beyond going SB on I-69/ US 59 - multiple lanes will be closed immediately for emergency road repair. Seek alt route and avoid the area. Closure may last until morning hours. HOUTraffic"
      ]
     },
     "execution_count": 13,
     "metadata": {},
     "output_type": "execute_result"
    }
   ],
   "source": [
    "tweet1"
   ]
  },
  {
   "cell_type": "code",
   "execution_count": 14,
   "metadata": {},
   "outputs": [
    {
     "name": "stdout",
     "output_type": "stream",
     "text": [
      "If SCONJ mark heading\n",
      "you PRON nsubj heading\n",
      "are AUX aux heading\n",
      "heading VERB advcl closed\n",
      "to ADP prep heading\n",
      "  SPACE  to\n",
      "and CCONJ cc to\n",
      "beyond ADP conj to\n",
      "going VERB pcomp beyond\n",
      "SB PROPN advmod going\n",
      "on ADP prep going\n",
      "I-69/ PROPN pobj on\n",
      "US PROPN nmod lanes\n",
      "59 NUM nummod multiple\n",
      "- PUNCT punct multiple\n",
      "multiple ADJ amod lanes\n",
      "lanes NOUN nsubjpass closed\n",
      "will VERB aux closed\n",
      "be AUX auxpass closed\n",
      "closed VERB ROOT closed\n",
      "immediately ADV advmod closed\n",
      "for ADP prep closed\n",
      "emergency NOUN compound repair\n",
      "road NOUN compound repair\n",
      "repair NOUN pobj for\n",
      ". PUNCT punct closed\n",
      "Seek VERB ROOT Seek\n",
      "alt NOUN compound route\n",
      "route NOUN dobj Seek\n",
      "and CCONJ cc Seek\n",
      "avoid VERB conj Seek\n",
      "the DET det area\n",
      "area NOUN dobj avoid\n",
      ". PUNCT punct Seek\n",
      "Closure NOUN nsubj last\n",
      "may VERB aux last\n",
      "last VERB ROOT last\n",
      "until ADP prep last\n",
      "morning NOUN compound hours\n",
      "hours NOUN pobj until\n",
      ". PUNCT punct last\n",
      "HOUTraffic PROPN ROOT HOUTraffic\n"
     ]
    }
   ],
   "source": [
    "for token in tweet1:\n",
    "    # Print the text and the predicted part-of-speech tag\n",
    "    print(token.text, token.pos_, token.dep_, token.head.text)"
   ]
  },
  {
   "cell_type": "code",
   "execution_count": 15,
   "metadata": {},
   "outputs": [
    {
     "name": "stdout",
     "output_type": "stream",
     "text": [
      "US GPE\n",
      "59 CARDINAL\n",
      "morning hours TIME\n"
     ]
    }
   ],
   "source": [
    "for ent in tweet1.ents:\n",
    "    # Print the entity text and its label\n",
    "    print(ent.text, ent.label_)"
   ]
  },
  {
   "cell_type": "code",
   "execution_count": 16,
   "metadata": {},
   "outputs": [
    {
     "data": {
      "text/plain": [
       "'Countries, cities, states'"
      ]
     },
     "execution_count": 16,
     "metadata": {},
     "output_type": "execute_result"
    }
   ],
   "source": [
    "spacy.explain('GPE')"
   ]
  },
  {
   "cell_type": "code",
   "execution_count": 17,
   "metadata": {},
   "outputs": [
    {
     "data": {
      "text/plain": [
       "'Numerals that do not fall under another type'"
      ]
     },
     "execution_count": 17,
     "metadata": {},
     "output_type": "execute_result"
    }
   ],
   "source": [
    "spacy.explain('CARDINAL')"
   ]
  },
  {
   "cell_type": "code",
   "execution_count": 18,
   "metadata": {},
   "outputs": [
    {
     "data": {
      "text/plain": [
       "'Times smaller than a day'"
      ]
     },
     "execution_count": 18,
     "metadata": {},
     "output_type": "execute_result"
    }
   ],
   "source": [
    "spacy.explain('TIME')"
   ]
  },
  {
   "cell_type": "code",
   "execution_count": 19,
   "metadata": {},
   "outputs": [],
   "source": [
    "## import the data\n",
    "final = pd.read_csv('final_data_for_modeling.csv')"
   ]
  },
  {
   "cell_type": "code",
   "execution_count": 20,
   "metadata": {},
   "outputs": [
    {
     "data": {
      "text/html": [
       "<div>\n",
       "<style scoped>\n",
       "    .dataframe tbody tr th:only-of-type {\n",
       "        vertical-align: middle;\n",
       "    }\n",
       "\n",
       "    .dataframe tbody tr th {\n",
       "        vertical-align: top;\n",
       "    }\n",
       "\n",
       "    .dataframe thead th {\n",
       "        text-align: right;\n",
       "    }\n",
       "</style>\n",
       "<table border=\"1\" class=\"dataframe\">\n",
       "  <thead>\n",
       "    <tr style=\"text-align: right;\">\n",
       "      <th></th>\n",
       "      <th>tweet</th>\n",
       "      <th>class</th>\n",
       "      <th>date_posted</th>\n",
       "    </tr>\n",
       "  </thead>\n",
       "  <tbody>\n",
       "    <tr>\n",
       "      <th>0</th>\n",
       "      <td>If you are heading to  and beyond going SB on ...</td>\n",
       "      <td>0</td>\n",
       "      <td>2017-12-13 23:22:50+00:00</td>\n",
       "    </tr>\n",
       "    <tr>\n",
       "      <th>1</th>\n",
       "      <td>Due to bridge repairs, TxDOT has closed two al...</td>\n",
       "      <td>0</td>\n",
       "      <td>2017-12-13 01:35:30+00:00</td>\n",
       "    </tr>\n",
       "    <tr>\n",
       "      <th>2</th>\n",
       "      <td>Good news. All mainlanes of I-45 N Frwy NB bet...</td>\n",
       "      <td>0</td>\n",
       "      <td>2017-12-04 02:46:13+00:00</td>\n",
       "    </tr>\n",
       "    <tr>\n",
       "      <th>3</th>\n",
       "      <td>I-45 Northbound direct connector project conti...</td>\n",
       "      <td>0</td>\n",
       "      <td>2017-12-01 14:49:35+00:00</td>\n",
       "    </tr>\n",
       "    <tr>\n",
       "      <th>4</th>\n",
       "      <td>Two incident on I-10 Katy Frwy are significant...</td>\n",
       "      <td>0</td>\n",
       "      <td>2017-11-28 22:18:29+00:00</td>\n",
       "    </tr>\n",
       "  </tbody>\n",
       "</table>\n",
       "</div>"
      ],
      "text/plain": [
       "                                               tweet  class  \\\n",
       "0  If you are heading to  and beyond going SB on ...      0   \n",
       "1  Due to bridge repairs, TxDOT has closed two al...      0   \n",
       "2  Good news. All mainlanes of I-45 N Frwy NB bet...      0   \n",
       "3  I-45 Northbound direct connector project conti...      0   \n",
       "4  Two incident on I-10 Katy Frwy are significant...      0   \n",
       "\n",
       "                 date_posted  \n",
       "0  2017-12-13 23:22:50+00:00  \n",
       "1  2017-12-13 01:35:30+00:00  \n",
       "2  2017-12-04 02:46:13+00:00  \n",
       "3  2017-12-01 14:49:35+00:00  \n",
       "4  2017-11-28 22:18:29+00:00  "
      ]
     },
     "execution_count": 20,
     "metadata": {},
     "output_type": "execute_result"
    }
   ],
   "source": [
    "final.head()"
   ]
  },
  {
   "cell_type": "code",
   "execution_count": 21,
   "metadata": {},
   "outputs": [],
   "source": [
    "# creating a dataframe of only closure tweets\n",
    "closure_tweets = final[final['class'] == 0]"
   ]
  },
  {
   "cell_type": "code",
   "execution_count": 22,
   "metadata": {},
   "outputs": [
    {
     "name": "stdout",
     "output_type": "stream",
     "text": [
      "(7738, 3)\n"
     ]
    },
    {
     "data": {
      "text/html": [
       "<div>\n",
       "<style scoped>\n",
       "    .dataframe tbody tr th:only-of-type {\n",
       "        vertical-align: middle;\n",
       "    }\n",
       "\n",
       "    .dataframe tbody tr th {\n",
       "        vertical-align: top;\n",
       "    }\n",
       "\n",
       "    .dataframe thead th {\n",
       "        text-align: right;\n",
       "    }\n",
       "</style>\n",
       "<table border=\"1\" class=\"dataframe\">\n",
       "  <thead>\n",
       "    <tr style=\"text-align: right;\">\n",
       "      <th></th>\n",
       "      <th>tweet</th>\n",
       "      <th>class</th>\n",
       "      <th>date_posted</th>\n",
       "    </tr>\n",
       "  </thead>\n",
       "  <tbody>\n",
       "    <tr>\n",
       "      <th>0</th>\n",
       "      <td>If you are heading to  and beyond going SB on ...</td>\n",
       "      <td>0</td>\n",
       "      <td>2017-12-13 23:22:50+00:00</td>\n",
       "    </tr>\n",
       "    <tr>\n",
       "      <th>1</th>\n",
       "      <td>Due to bridge repairs, TxDOT has closed two al...</td>\n",
       "      <td>0</td>\n",
       "      <td>2017-12-13 01:35:30+00:00</td>\n",
       "    </tr>\n",
       "    <tr>\n",
       "      <th>2</th>\n",
       "      <td>Good news. All mainlanes of I-45 N Frwy NB bet...</td>\n",
       "      <td>0</td>\n",
       "      <td>2017-12-04 02:46:13+00:00</td>\n",
       "    </tr>\n",
       "    <tr>\n",
       "      <th>3</th>\n",
       "      <td>I-45 Northbound direct connector project conti...</td>\n",
       "      <td>0</td>\n",
       "      <td>2017-12-01 14:49:35+00:00</td>\n",
       "    </tr>\n",
       "    <tr>\n",
       "      <th>4</th>\n",
       "      <td>Two incident on I-10 Katy Frwy are significant...</td>\n",
       "      <td>0</td>\n",
       "      <td>2017-11-28 22:18:29+00:00</td>\n",
       "    </tr>\n",
       "  </tbody>\n",
       "</table>\n",
       "</div>"
      ],
      "text/plain": [
       "                                               tweet  class  \\\n",
       "0  If you are heading to  and beyond going SB on ...      0   \n",
       "1  Due to bridge repairs, TxDOT has closed two al...      0   \n",
       "2  Good news. All mainlanes of I-45 N Frwy NB bet...      0   \n",
       "3  I-45 Northbound direct connector project conti...      0   \n",
       "4  Two incident on I-10 Katy Frwy are significant...      0   \n",
       "\n",
       "                 date_posted  \n",
       "0  2017-12-13 23:22:50+00:00  \n",
       "1  2017-12-13 01:35:30+00:00  \n",
       "2  2017-12-04 02:46:13+00:00  \n",
       "3  2017-12-01 14:49:35+00:00  \n",
       "4  2017-11-28 22:18:29+00:00  "
      ]
     },
     "execution_count": 22,
     "metadata": {},
     "output_type": "execute_result"
    }
   ],
   "source": [
    "# inspecting the closure tweets\n",
    "print(closure_tweets.shape)\n",
    "closure_tweets.head()"
   ]
  },
  {
   "cell_type": "code",
   "execution_count": 25,
   "metadata": {},
   "outputs": [],
   "source": [
    "# to use spaCy\n",
    "# need to make changes to the tweets\n",
    "# e.g. change 'Frwy' in the fifth tweet in the dataframe to \"freeway\"\n",
    "\n",
    "traffic_dict = {'US ' : 'US-', \n",
    "                'I-' : 'Interstate ',  \n",
    "                'CR ' : 'Country Route ',\n",
    "                'Hwy' : 'Highway ',\n",
    "                'St ' : 'Street ',\n",
    "                'St. ' : 'Street ',\n",
    "                'Dr': 'Drive',\n",
    "                'Dr.': 'Drive',\n",
    "                'Rt ' : 'Route ',\n",
    "                'Rd' : 'Road ',\n",
    "                'Rd. ' : 'Road ',\n",
    "                'Rte ' : 'Route ',\n",
    "                'SB' : 'southbound', \n",
    "                'NB' : 'northbound', \n",
    "                'WB': 'westbound',\n",
    "                'EB': 'eastbound',\n",
    "               'Frwy': 'freeway'\n",
    "               }"
   ]
  },
  {
   "cell_type": "code",
   "execution_count": 26,
   "metadata": {},
   "outputs": [],
   "source": [
    "clear_tweets = []\n",
    "for clean in closure_tweets['tweet']:\n",
    "    for key in traffic_dict:\n",
    "        cleaned = clean.replace(key, traffic_dict[key])\n",
    "    clear_tweets.append(cleaned)\n",
    "closure_tweets['cleaner_tweet'] = clear_tweets"
   ]
  },
  {
   "cell_type": "code",
   "execution_count": 27,
   "metadata": {},
   "outputs": [
    {
     "data": {
      "text/html": [
       "<div>\n",
       "<style scoped>\n",
       "    .dataframe tbody tr th:only-of-type {\n",
       "        vertical-align: middle;\n",
       "    }\n",
       "\n",
       "    .dataframe tbody tr th {\n",
       "        vertical-align: top;\n",
       "    }\n",
       "\n",
       "    .dataframe thead th {\n",
       "        text-align: right;\n",
       "    }\n",
       "</style>\n",
       "<table border=\"1\" class=\"dataframe\">\n",
       "  <thead>\n",
       "    <tr style=\"text-align: right;\">\n",
       "      <th></th>\n",
       "      <th>tweet</th>\n",
       "      <th>class</th>\n",
       "      <th>date_posted</th>\n",
       "      <th>cleaner_tweet</th>\n",
       "    </tr>\n",
       "  </thead>\n",
       "  <tbody>\n",
       "    <tr>\n",
       "      <th>0</th>\n",
       "      <td>If you are heading to  and beyond going SB on ...</td>\n",
       "      <td>0</td>\n",
       "      <td>2017-12-13 23:22:50+00:00</td>\n",
       "      <td>If you are heading to  and beyond going SB on ...</td>\n",
       "    </tr>\n",
       "    <tr>\n",
       "      <th>1</th>\n",
       "      <td>Due to bridge repairs, TxDOT has closed two al...</td>\n",
       "      <td>0</td>\n",
       "      <td>2017-12-13 01:35:30+00:00</td>\n",
       "      <td>Due to bridge repairs, TxDOT has closed two al...</td>\n",
       "    </tr>\n",
       "    <tr>\n",
       "      <th>2</th>\n",
       "      <td>Good news. All mainlanes of I-45 N Frwy NB bet...</td>\n",
       "      <td>0</td>\n",
       "      <td>2017-12-04 02:46:13+00:00</td>\n",
       "      <td>Good news. All mainlanes of I-45 N freeway NB ...</td>\n",
       "    </tr>\n",
       "    <tr>\n",
       "      <th>3</th>\n",
       "      <td>I-45 Northbound direct connector project conti...</td>\n",
       "      <td>0</td>\n",
       "      <td>2017-12-01 14:49:35+00:00</td>\n",
       "      <td>I-45 Northbound direct connector project conti...</td>\n",
       "    </tr>\n",
       "    <tr>\n",
       "      <th>4</th>\n",
       "      <td>Two incident on I-10 Katy Frwy are significant...</td>\n",
       "      <td>0</td>\n",
       "      <td>2017-11-28 22:18:29+00:00</td>\n",
       "      <td>Two incident on I-10 Katy freeway are signific...</td>\n",
       "    </tr>\n",
       "    <tr>\n",
       "      <th>...</th>\n",
       "      <td>...</td>\n",
       "      <td>...</td>\n",
       "      <td>...</td>\n",
       "      <td>...</td>\n",
       "    </tr>\n",
       "    <tr>\n",
       "      <th>7733</th>\n",
       "      <td>PolarVortex: It's so cold in Wisconsin that th...</td>\n",
       "      <td>0</td>\n",
       "      <td>2019-01-30 13:51:14+00:00</td>\n",
       "      <td>PolarVortex: It's so cold in Wisconsin that th...</td>\n",
       "    </tr>\n",
       "    <tr>\n",
       "      <th>7734</th>\n",
       "      <td>We have another chance to see some patchy fog ...</td>\n",
       "      <td>0</td>\n",
       "      <td>2019-01-06 23:50:44+00:00</td>\n",
       "      <td>We have another chance to see some patchy fog ...</td>\n",
       "    </tr>\n",
       "    <tr>\n",
       "      <th>7735</th>\n",
       "      <td>Close to normal lows for this time of the year...</td>\n",
       "      <td>0</td>\n",
       "      <td>2019-12-22 11:54:01+00:00</td>\n",
       "      <td>Close to normal lows for this time of the year...</td>\n",
       "    </tr>\n",
       "    <tr>\n",
       "      <th>7736</th>\n",
       "      <td>2 direct connectors at I-10 and I-69 interchan...</td>\n",
       "      <td>0</td>\n",
       "      <td>2019-11-01 00:15:01+00:00</td>\n",
       "      <td>2 direct connectors at I-10 and I-69 interchan...</td>\n",
       "    </tr>\n",
       "    <tr>\n",
       "      <th>7737</th>\n",
       "      <td>11am temperatures already feel like 101°at Bus...</td>\n",
       "      <td>0</td>\n",
       "      <td>2019-07-06 16:05:18+00:00</td>\n",
       "      <td>11am temperatures already feel like 101°at Bus...</td>\n",
       "    </tr>\n",
       "  </tbody>\n",
       "</table>\n",
       "<p>7738 rows × 4 columns</p>\n",
       "</div>"
      ],
      "text/plain": [
       "                                                  tweet  class  \\\n",
       "0     If you are heading to  and beyond going SB on ...      0   \n",
       "1     Due to bridge repairs, TxDOT has closed two al...      0   \n",
       "2     Good news. All mainlanes of I-45 N Frwy NB bet...      0   \n",
       "3     I-45 Northbound direct connector project conti...      0   \n",
       "4     Two incident on I-10 Katy Frwy are significant...      0   \n",
       "...                                                 ...    ...   \n",
       "7733  PolarVortex: It's so cold in Wisconsin that th...      0   \n",
       "7734  We have another chance to see some patchy fog ...      0   \n",
       "7735  Close to normal lows for this time of the year...      0   \n",
       "7736  2 direct connectors at I-10 and I-69 interchan...      0   \n",
       "7737  11am temperatures already feel like 101°at Bus...      0   \n",
       "\n",
       "                    date_posted  \\\n",
       "0     2017-12-13 23:22:50+00:00   \n",
       "1     2017-12-13 01:35:30+00:00   \n",
       "2     2017-12-04 02:46:13+00:00   \n",
       "3     2017-12-01 14:49:35+00:00   \n",
       "4     2017-11-28 22:18:29+00:00   \n",
       "...                         ...   \n",
       "7733  2019-01-30 13:51:14+00:00   \n",
       "7734  2019-01-06 23:50:44+00:00   \n",
       "7735  2019-12-22 11:54:01+00:00   \n",
       "7736  2019-11-01 00:15:01+00:00   \n",
       "7737  2019-07-06 16:05:18+00:00   \n",
       "\n",
       "                                          cleaner_tweet  \n",
       "0     If you are heading to  and beyond going SB on ...  \n",
       "1     Due to bridge repairs, TxDOT has closed two al...  \n",
       "2     Good news. All mainlanes of I-45 N freeway NB ...  \n",
       "3     I-45 Northbound direct connector project conti...  \n",
       "4     Two incident on I-10 Katy freeway are signific...  \n",
       "...                                                 ...  \n",
       "7733  PolarVortex: It's so cold in Wisconsin that th...  \n",
       "7734  We have another chance to see some patchy fog ...  \n",
       "7735  Close to normal lows for this time of the year...  \n",
       "7736  2 direct connectors at I-10 and I-69 interchan...  \n",
       "7737  11am temperatures already feel like 101°at Bus...  \n",
       "\n",
       "[7738 rows x 4 columns]"
      ]
     },
     "execution_count": 27,
     "metadata": {},
     "output_type": "execute_result"
    }
   ],
   "source": [
    "closure_tweets"
   ]
  },
  {
   "cell_type": "code",
   "execution_count": 28,
   "metadata": {},
   "outputs": [],
   "source": [
    "# choosing random data to use in named entity recognition training module\n",
    "\n",
    "test_col = closure_tweets['cleaner_tweet'].sample(n = 45, replace = False)"
   ]
  },
  {
   "cell_type": "code",
   "execution_count": 29,
   "metadata": {},
   "outputs": [],
   "source": [
    "import numpy as np"
   ]
  },
  {
   "cell_type": "code",
   "execution_count": 30,
   "metadata": {},
   "outputs": [],
   "source": [
    "np.savetxt('spacy_annotator_test.txt', test_col, fmt='%s')"
   ]
  },
  {
   "cell_type": "code",
   "execution_count": 31,
   "metadata": {},
   "outputs": [],
   "source": [
    "## label data"
   ]
  },
  {
   "cell_type": "code",
   "execution_count": 32,
   "metadata": {},
   "outputs": [],
   "source": [
    "# used 40 randomly selected tweets above to train out model on name recognition.\n",
    "# https://manivannanmurugavel.github.io/annotating-tool/spacy-ner-annotator/\n",
    "# https://medium.com/@manivannan_data/how-to-train-ner-with-custom-training-data-using-spacy-188e0e508c6\n",
    "# output is a json file"
   ]
  },
  {
   "cell_type": "code",
   "execution_count": 34,
   "metadata": {},
   "outputs": [
    {
     "name": "stdout",
     "output_type": "stream",
     "text": [
      "/Houston NER.jsonHouston NER.json\n"
     ]
    }
   ],
   "source": [
    "import json\n",
    "\n",
    "ner_trained = input('/Houston NER.json')\n",
    "\n",
    "with open(ner_trained) as train_data:\n",
    "    train = json.load(train_data)\n",
    "    \n",
    "training_data_ner = []\n",
    "for data in train:\n",
    "    ents = [tuple(entity) for entity in data['entities']]\n",
    "    training_data_ner.append((data['content'],{'entities':ents}))\n",
    "\n",
    "\n",
    "with open('{}'.format(ner_trained.replace('json','txt')),'w') as write:\n",
    "    write.write(str(training_data_ner))"
   ]
  },
  {
   "cell_type": "code",
   "execution_count": 35,
   "metadata": {},
   "outputs": [
    {
     "data": {
      "text/plain": [
       "list"
      ]
     },
     "execution_count": 35,
     "metadata": {},
     "output_type": "execute_result"
    }
   ],
   "source": [
    "type(training_data_ner)"
   ]
  },
  {
   "cell_type": "code",
   "execution_count": 36,
   "metadata": {},
   "outputs": [
    {
     "ename": "NameError",
     "evalue": "name 'ner_train' is not defined",
     "output_type": "error",
     "traceback": [
      "\u001b[0;31m---------------------------------------------------------------------------\u001b[0m",
      "\u001b[0;31mNameError\u001b[0m                                 Traceback (most recent call last)",
      "\u001b[0;32m<ipython-input-36-f8bd7eb56d96>\u001b[0m in \u001b[0;36m<module>\u001b[0;34m\u001b[0m\n\u001b[0;32m----> 1\u001b[0;31m \u001b[0mner_train\u001b[0m\u001b[0;34m\u001b[0m\u001b[0;34m\u001b[0m\u001b[0m\n\u001b[0m",
      "\u001b[0;31mNameError\u001b[0m: name 'ner_train' is not defined"
     ]
    }
   ],
   "source": [
    "ner_train"
   ]
  },
  {
   "cell_type": "code",
   "execution_count": 37,
   "metadata": {},
   "outputs": [
    {
     "data": {
      "text/plain": [
       "[('Additional road closures in southeast Houston: 1) Airport between Telephone Road and Broadway 2) Mykawa between Dixie and Interstate Highway 610 3) Wayside between Dixie and Interstate Highway 610 4) Cullen at Almeda Genoa 5) Scott Street at Interstate Highway 610 houwx',\n",
       "  {'entities': [(97, 144, 'relative location'),\n",
       "    (50, 94, 'relative location'),\n",
       "    (148, 196, 'relative location'),\n",
       "    (226, 264, 'relative location'),\n",
       "    (199, 222, 'relative location'),\n",
       "    (28, 45, 'region')]}),\n",
       " ('Closed due to accident in SouthSide on Hwy 288 S Fwy SB approaching The S Sam Houston Tollway, stopped traffic back to Orem traffic',\n",
       "  {'entities': [(26, 35, 'region'),\n",
       "    (39, 93, 'relative location'),\n",
       "    (111, 123, 'relative location'),\n",
       "    (7, 22, 'delay reason')]}),\n",
       " ('Freeway closed due to a major accident. in Bellaire on 610 W Lp NB between Fournace and 69 The SW Fwy, stopped traffic back to Bellaire',\n",
       "  {'entities': [(15, 38, 'delay reason'),\n",
       "    (43, 51, 'region'),\n",
       "    (52, 101, 'relative location')]}),\n",
       " ('Exit ramp to the west sam nb closed on 69 SW Fwy Outbound at The W Sam Houston Tollway traffic ',\n",
       "  {'entities': [(0, 21, 'closure'), (39, 86, 'relative location')]}),\n",
       " ('Road construction, left lane closed in Downtown on 69 SW Fwy Inbound before I-45, stop and go traffic back to Buffalo Speedway traffic',\n",
       "  {'entities': [(19, 35, 'closure'),\n",
       "    (38, 47, 'region'),\n",
       "    (50, 80, 'relative location'),\n",
       "    (102, 126, 'relative location')]}),\n",
       " ('All Eastbound lanes of the South Loop East (IH610) at Gulf Fwy are currently closed due to major accident. Vehicular Crimes and DWI Units are at the scene. Expect Delays. HouNews houtraffic houstontranstar',\n",
       "  {'entities': [(0, 19, 'closure'),\n",
       "    (27, 62, 'relative location'),\n",
       "    (77, 105, 'closure')]}),\n",
       " ('Closed due to accident in Downtown on Hwy 288 S Fwy Inbound after 69 SW Fwy to I-45 traffic ',\n",
       "  {'entities': [(0, 22, 'closure'),\n",
       "    (26, 34, 'region'),\n",
       "    (38, 83, 'relative location')]}),\n",
       " ('Road construction, two lanes closed on I-10 Katy Fwy EB between Hwy 6 and The W Sam Houston Tollway, stop and go traffic back to Fry Rd.',\n",
       "  {'entities': [(0, 17, 'delay reason'),\n",
       "    (19, 35, 'closure'),\n",
       "    (38, 99, 'relative location')]}),\n",
       " ('Closed due to road construction on Hwy 288 SB at The S Lp traffic ',\n",
       "  {'entities': [(14, 31, 'delay reason'), (35, 57, 'relative location')]}),\n",
       " ('Closed due to accident in Houston on S Sam Houston Tollway WB after Monroe and before Telephone Rd traffic ',\n",
       "  {'entities': [(26, 33, 'region'),\n",
       "    (37, 98, 'relative location'),\n",
       "    (7, 22, 'delay reason')]}),\n",
       " ('Road construction, left lane closed in Downtown on 69 SW Fwy Inbound after Hwy 288 to I-45, stop and go traffic back to Kirby Dr traffic',\n",
       "  {'entities': [(0, 17, 'delay reason'),\n",
       "    (39, 47, 'region'),\n",
       "    (19, 35, 'closure'),\n",
       "    (51, 90, 'relative location')]}),\n",
       " ('Closed due to accident in SouthSide on 610 S Lp WB at Hwy 288 traffic ',\n",
       "  {'entities': [(26, 35, 'region'),\n",
       "    (36, 61, 'relative location'),\n",
       "    (7, 22, 'delay reason')]}),\n",
       " ('UPDATE: NW HOV Lane still closed due to wreck on the lane. Updates as available. ^R ',\n",
       "  {'entities': [(7, 32, 'closure'), (33, 57, 'delay reason')]}),\n",
       " ('Closed in Richmond on Hwy 99 SB between US 980 and The 59 SW Fwy traffic ',\n",
       "  {'entities': [(7, 18, 'region'), (22, 64, 'relative location')]}),\n",
       " ('Closed due to road construction in NortheastSide on Hwy 90 EB near CE King to The E Sam Houston Pkwy traffic ',\n",
       "  {'entities': [(7, 31, 'delay reason'),\n",
       "    (35, 48, 'region'),\n",
       "    (52, 100, 'relative location')]}),\n",
       " ('Heads up     SH 35 (Bypass) at SH 6 will be closed for road work starting 9pm Friday until 5am Monday. SH 6 alternating lanes will also be impacted. ',\n",
       "  {'entities': [(12, 35, 'relative location'),\n",
       "    (44, 64, 'delay reason'),\n",
       "    (103, 125, 'closure')]}),\n",
       " ('Currently keeping a close eye on the showers that are back building along a remnant boundary across portions of E Waller, N Harris, S Montgomery back into Liberty and Chambers County. Heavy rainfall remains possible. Have multiple ways to receive warnings. txwx houwx glswx',\n",
       "  {'entities': [(112, 182, 'region')]}),\n",
       " ('Closed due to high water in Colorado on TX-71 Both EB/WB between US-90 Alt and I-10 traffic ',\n",
       "  {'entities': [(0, 24, 'delay reason'),\n",
       "    (28, 36, 'region'),\n",
       "    (40, 83, 'relative location')]}),\n",
       " ('Closed due to accident in Med.Center on Hwy 288 NB at 69 SW Fwy traffic ',\n",
       "  {'entities': [(7, 22, 'delay reason'),\n",
       "    (26, 36, 'region'),\n",
       "    (40, 63, 'relative location')]}),\n",
       " ('This WKND: SH 288 NB between FM 518 and McHard in   all mainlanes closed for roadwork starting 9pm tonight until 5am Monday. ',\n",
       "  {'entities': [(11, 46, 'relative location'),\n",
       "    (52, 72, 'closure'),\n",
       "    (73, 85, 'delay reason')]}),\n",
       " ('Closed due to road construction in SouthEastSide on 45 Gulf Fwy NB between 610 S Lp and Woodridge, stopped traffic back to Monroe traffic',\n",
       "  {'entities': [(7, 31, 'closure'),\n",
       "    (35, 48, 'region'),\n",
       "    (52, 97, 'relative location')]}),\n",
       " ('Road construction, left lane closed in Channelview on I-10 E Fwy Inbound at Sheldon, stop and go traffic back to Cedar Ln, delay of 3 mins',\n",
       "  {'entities': [(0, 17, 'delay reason'),\n",
       "    (19, 35, 'closure'),\n",
       "    (36, 50, 'region'),\n",
       "    (54, 83, 'relative location')]}),\n",
       " ('Slow and steady. HOVs are closed, so 214 and others are detouring as necessary. Expect significant delays. ^B',\n",
       "  {'entities': [(17, 32, 'closure')]}),\n",
       " ('IH-45 Gulf  Northbound crash with 3 lanes closed. Expect Delays. houtraffic CC9',\n",
       "  {'entities': [(34, 48, 'closure'), (23, 28, 'delay reason')]}),\n",
       " ('Closed due to heavy truck accident with a spill in Rosenberg on 69 SW Fwy NB between Hwy 36 and Reading Rd., sto... ',\n",
       "  {'entities': [(0, 47, 'delay reason'),\n",
       "    (51, 60, 'region'),\n",
       "    (64, 107, 'relative location')]}),\n",
       " ('Road construction. two right lanes closed in NwSide on US-290 WB from Jones Rd. to W Rd., stop and go traffic ba... ',\n",
       "  {'entities': [(19, 41, 'closure'),\n",
       "    (0, 17, 'delay reason'),\n",
       "    (45, 51, 'region'),\n",
       "    (54, 88, 'relative location')]}),\n",
       " ('Closed due to accident in GreenwayUpperKirby on 69 SW Fwy Inbound approaching Spur 527 and before Fannin, stopped traffic back to Edloe',\n",
       "  {'entities': [(0, 22, 'delay reason'),\n",
       "    (26, 44, 'region'),\n",
       "    (48, 104, 'relative location')]}),\n",
       " ('All lanes closed due to hazmat spill in NewCaney on Hwy 1485 EB at Stephens Forest Rd. traffic ',\n",
       "  {'entities': [(0, 16, 'closure'),\n",
       "    (17, 36, 'delay reason'),\n",
       "    (40, 48, 'region'),\n",
       "    (52, 85, 'relative location')]}),\n",
       " ('FLOODING ALONG THE BRAZOS: People in the Angleton area, who have flooded several times before, are concerned that the water is dangerously too close to their homes. ',\n",
       "  {'entities': [(41, 49, 'region')]}),\n",
       " ('TOTAL CLOSURE: SH-146 southbound mainlanes are closed at Shoreacres/Choate as police investigate an incident. We do not have an estimated time on when the roadway will open but will update you here once it does. Please avoid the area if possible and expect delays.',\n",
       "  {'entities': [(57, 74, 'relative location'),\n",
       "    (15, 21, 'relative location'),\n",
       "    (22, 53, 'closure'),\n",
       "    (78, 108, 'delay reason')]}),\n",
       " ('Closed due to ice in RosenbergSugarland on US-69 NB between Hwy 99 and Murphy traffic ',\n",
       "  {'entities': [(43, 77, 'relative location'), (7, 17, 'delay reason')]}),\n",
       " ('I-45 Gulf Freeway (SB) at I-69: All mainlanes closed for construction beginning at 9pm Fri, March 15 until 5am Monday, March 18. Traffic will detour to I-69 NB or SB. Also, I-69 (NB) at I-45: All mainlanes closed from 9pm tonight until 5am Monday. ',\n",
       "  {'entities': [(0, 30, 'relative location'),\n",
       "    (33, 52, 'closure'),\n",
       "    (57, 69, 'delay reason')]}),\n",
       " ('Connecting ramp closed due to ice on Hwy 288 S Fwy Inbound at The S Lp traffic ',\n",
       "  {'entities': [(0, 23, 'closure'),\n",
       "    (23, 33, 'delay reason'),\n",
       "    (37, 70, 'relative location')]}),\n",
       " ('Closed due to road construction in SeSide on 45 Gulf Fwy SB between Woodridge and 610 S Lp traffic ',\n",
       "  {'entities': [(7, 31, 'delay reason'),\n",
       "    (35, 42, 'region'),\n",
       "    (45, 90, 'relative location')]}),\n",
       " ('Closed due to accident in NorthSide on I-45 SB between Parker and Tidwell Rd. traffic ',\n",
       "  {'entities': [(7, 22, 'delay reason'),\n",
       "    (26, 35, 'region'),\n",
       "    (39, 77, 'relative location')]}),\n",
       " ('Closed due to accident in Hockley on 290 NW Fwy Outbound at Warren Ranch Rd traffic ',\n",
       "  {'entities': [(7, 22, 'delay reason'),\n",
       "    (26, 33, 'region'),\n",
       "    (37, 75, 'relative location')]}),\n",
       " ('Icy road conditions has the highway closed in NorthSide on 45 N Freewat NB between The 610 N Lp and Crosstimbers traffic',\n",
       "  {'entities': [(0, 19, 'delay reason'),\n",
       "    (28, 42, 'closure'),\n",
       "    (46, 55, 'region'),\n",
       "    (59, 113, 'relative location')]}),\n",
       " ('Road construction, left lane closed in Harris on Hwy 288 NB before Yellowstone, delay of 7 mins traffic ',\n",
       "  {'entities': [(0, 17, 'delay reason'),\n",
       "    (19, 35, 'closure'),\n",
       "    (39, 45, 'region'),\n",
       "    (49, 78, 'relative location')]}),\n",
       " ('Closed due to accident in Harris on 69 SW Fwy Frontage Rd WB between Kirby Dr and Weslayan St traffic ',\n",
       "  {'entities': [(26, 32, 'region'),\n",
       "    (0, 22, 'delay reason'),\n",
       "    (36, 93, 'relative location')]}),\n",
       " ('TRAFFIC ALERT: MAJOR ACCIDENT I-10 EAST FREEWAY WB  LEFT LANES CLOSED. EXPECT DELAYS. HOUTRAFFIC',\n",
       "  {'entities': [(30, 50, 'relative location'),\n",
       "    (52, 69, 'closure'),\n",
       "    (15, 29, 'delay reason')]}),\n",
       " ('Closed due to road construction in Harris on 290 NW Fwy WB from W 34th St to Pinemont Dr traffic ',\n",
       "  {'entities': [(35, 41, 'region'),\n",
       "    (7, 31, 'delay reason'),\n",
       "    (45, 88, 'relative location')]}),\n",
       " ('Crews have completed their inspections. All WB mainlanes of I-10 East at Waco are now open. A right NB lane on the Waco bridge will be closed until further notice. Repairs will be scheduled soon. ',\n",
       "  {'entities': [(60, 77, 'relative location'), (100, 141, 'closure')]}),\n",
       " ('Closed due to flooding in WestSide on Hwy 6 NB between I-10 and Clay Rd. traffic ',\n",
       "  {'entities': [(26, 34, 'region'), (38, 72, 'relative location')]}),\n",
       " ('Closed due to accident in SwSide on 69 SW Fwy SB between Hillcroft and Bellaire Blvd, stopped traffic back to The Westpark Tollway traffic',\n",
       "  {'entities': [(7, 22, 'delay reason'),\n",
       "    (26, 32, 'region'),\n",
       "    (36, 84, 'relative location')]}),\n",
       " ('', {'entities': []})]"
      ]
     },
     "execution_count": 37,
     "metadata": {},
     "output_type": "execute_result"
    }
   ],
   "source": [
    "# inspecting our converted data and confirming that it is now a python list\n",
    "training_data_ner"
   ]
  },
  {
   "cell_type": "code",
   "execution_count": 39,
   "metadata": {},
   "outputs": [],
   "source": [
    "import random"
   ]
  },
  {
   "cell_type": "code",
   "execution_count": 40,
   "metadata": {},
   "outputs": [],
   "source": [
    "# train our spaCy model\n",
    "# code adapted from creator of ner annotator\n",
    "# https://medium.com/@manivannan_data/how-to-train-ner-with-custom-training-data-using-spacy-188e0e508c6\n",
    "\n",
    "def train_spacy(data,iterations):\n",
    "    training_data_ner = data\n",
    "    nlp = spacy.blank('en')  # create blank Language class\n",
    "    # create the built-in pipeline components and add them to the pipeline\n",
    "    # nlp.create_pipe works for built-ins that are registered with spaCy\n",
    "    if 'ner' not in nlp.pipe_names:\n",
    "        ner = nlp.create_pipe('ner')\n",
    "        nlp.add_pipe(ner, last=True)\n",
    "       \n",
    "\n",
    "    # add labels\n",
    "    for _, annotations in training_data_ner:\n",
    "         for ent in annotations.get('entities'):\n",
    "            ner.add_label(ent[2])\n",
    "\n",
    "    # get names of other pipes to disable them during training\n",
    "    other_pipes = [pipe for pipe in nlp.pipe_names if pipe != 'ner']\n",
    "    with nlp.disable_pipes(*other_pipes):  # only train NER\n",
    "        optimizer = nlp.begin_training()\n",
    "        for itn in range(iterations):\n",
    "            print(\"Statring iteration \" + str(itn))\n",
    "            random.shuffle(training_data_ner)\n",
    "            losses = {}\n",
    "            for text, annotations in training_data_ner:\n",
    "                nlp.update(\n",
    "                    [text],  # batch of texts\n",
    "                    [annotations],  # batch of annotations\n",
    "                    drop=0.2,  # dropout - make it harder to memorise data\n",
    "                    sgd=optimizer,  # callable to update weights\n",
    "                    losses=losses)\n",
    "            print(losses)\n",
    "    return nlp\n",
    "\n",
    "\n",
    "\n",
    "\n"
   ]
  },
  {
   "cell_type": "code",
   "execution_count": 41,
   "metadata": {},
   "outputs": [
    {
     "data": {
      "text/plain": [
       "[('Additional road closures in southeast Houston: 1) Airport between Telephone Road and Broadway 2) Mykawa between Dixie and Interstate Highway 610 3) Wayside between Dixie and Interstate Highway 610 4) Cullen at Almeda Genoa 5) Scott Street at Interstate Highway 610 houwx',\n",
       "  {'entities': [(97, 144, 'relative location'),\n",
       "    (50, 94, 'relative location'),\n",
       "    (148, 196, 'relative location'),\n",
       "    (226, 264, 'relative location'),\n",
       "    (199, 222, 'relative location'),\n",
       "    (28, 45, 'region')]}),\n",
       " ('Closed due to accident in SouthSide on Hwy 288 S Fwy SB approaching The S Sam Houston Tollway, stopped traffic back to Orem traffic',\n",
       "  {'entities': [(26, 35, 'region'),\n",
       "    (39, 93, 'relative location'),\n",
       "    (111, 123, 'relative location'),\n",
       "    (7, 22, 'delay reason')]}),\n",
       " ('Freeway closed due to a major accident. in Bellaire on 610 W Lp NB between Fournace and 69 The SW Fwy, stopped traffic back to Bellaire',\n",
       "  {'entities': [(15, 38, 'delay reason'),\n",
       "    (43, 51, 'region'),\n",
       "    (52, 101, 'relative location')]}),\n",
       " ('Exit ramp to the west sam nb closed on 69 SW Fwy Outbound at The W Sam Houston Tollway traffic ',\n",
       "  {'entities': [(0, 21, 'closure'), (39, 86, 'relative location')]}),\n",
       " ('Road construction, left lane closed in Downtown on 69 SW Fwy Inbound before I-45, stop and go traffic back to Buffalo Speedway traffic',\n",
       "  {'entities': [(19, 35, 'closure'),\n",
       "    (38, 47, 'region'),\n",
       "    (50, 80, 'relative location'),\n",
       "    (102, 126, 'relative location')]}),\n",
       " ('All Eastbound lanes of the South Loop East (IH610) at Gulf Fwy are currently closed due to major accident. Vehicular Crimes and DWI Units are at the scene. Expect Delays. HouNews houtraffic houstontranstar',\n",
       "  {'entities': [(0, 19, 'closure'),\n",
       "    (27, 62, 'relative location'),\n",
       "    (77, 105, 'closure')]}),\n",
       " ('Closed due to accident in Downtown on Hwy 288 S Fwy Inbound after 69 SW Fwy to I-45 traffic ',\n",
       "  {'entities': [(0, 22, 'closure'),\n",
       "    (26, 34, 'region'),\n",
       "    (38, 83, 'relative location')]}),\n",
       " ('Road construction, two lanes closed on I-10 Katy Fwy EB between Hwy 6 and The W Sam Houston Tollway, stop and go traffic back to Fry Rd.',\n",
       "  {'entities': [(0, 17, 'delay reason'),\n",
       "    (19, 35, 'closure'),\n",
       "    (38, 99, 'relative location')]}),\n",
       " ('Closed due to road construction on Hwy 288 SB at The S Lp traffic ',\n",
       "  {'entities': [(14, 31, 'delay reason'), (35, 57, 'relative location')]}),\n",
       " ('Closed due to accident in Houston on S Sam Houston Tollway WB after Monroe and before Telephone Rd traffic ',\n",
       "  {'entities': [(26, 33, 'region'),\n",
       "    (37, 98, 'relative location'),\n",
       "    (7, 22, 'delay reason')]}),\n",
       " ('Road construction, left lane closed in Downtown on 69 SW Fwy Inbound after Hwy 288 to I-45, stop and go traffic back to Kirby Dr traffic',\n",
       "  {'entities': [(0, 17, 'delay reason'),\n",
       "    (39, 47, 'region'),\n",
       "    (19, 35, 'closure'),\n",
       "    (51, 90, 'relative location')]}),\n",
       " ('Closed due to accident in SouthSide on 610 S Lp WB at Hwy 288 traffic ',\n",
       "  {'entities': [(26, 35, 'region'),\n",
       "    (36, 61, 'relative location'),\n",
       "    (7, 22, 'delay reason')]}),\n",
       " ('UPDATE: NW HOV Lane still closed due to wreck on the lane. Updates as available. ^R ',\n",
       "  {'entities': [(7, 32, 'closure'), (33, 57, 'delay reason')]}),\n",
       " ('Closed in Richmond on Hwy 99 SB between US 980 and The 59 SW Fwy traffic ',\n",
       "  {'entities': [(7, 18, 'region'), (22, 64, 'relative location')]}),\n",
       " ('Closed due to road construction in NortheastSide on Hwy 90 EB near CE King to The E Sam Houston Pkwy traffic ',\n",
       "  {'entities': [(7, 31, 'delay reason'),\n",
       "    (35, 48, 'region'),\n",
       "    (52, 100, 'relative location')]}),\n",
       " ('Heads up     SH 35 (Bypass) at SH 6 will be closed for road work starting 9pm Friday until 5am Monday. SH 6 alternating lanes will also be impacted. ',\n",
       "  {'entities': [(12, 35, 'relative location'),\n",
       "    (44, 64, 'delay reason'),\n",
       "    (103, 125, 'closure')]}),\n",
       " ('Currently keeping a close eye on the showers that are back building along a remnant boundary across portions of E Waller, N Harris, S Montgomery back into Liberty and Chambers County. Heavy rainfall remains possible. Have multiple ways to receive warnings. txwx houwx glswx',\n",
       "  {'entities': [(112, 182, 'region')]}),\n",
       " ('Closed due to high water in Colorado on TX-71 Both EB/WB between US-90 Alt and I-10 traffic ',\n",
       "  {'entities': [(0, 24, 'delay reason'),\n",
       "    (28, 36, 'region'),\n",
       "    (40, 83, 'relative location')]}),\n",
       " ('Closed due to accident in Med.Center on Hwy 288 NB at 69 SW Fwy traffic ',\n",
       "  {'entities': [(7, 22, 'delay reason'),\n",
       "    (26, 36, 'region'),\n",
       "    (40, 63, 'relative location')]}),\n",
       " ('This WKND: SH 288 NB between FM 518 and McHard in   all mainlanes closed for roadwork starting 9pm tonight until 5am Monday. ',\n",
       "  {'entities': [(11, 46, 'relative location'),\n",
       "    (52, 72, 'closure'),\n",
       "    (73, 85, 'delay reason')]}),\n",
       " ('Closed due to road construction in SouthEastSide on 45 Gulf Fwy NB between 610 S Lp and Woodridge, stopped traffic back to Monroe traffic',\n",
       "  {'entities': [(7, 31, 'closure'),\n",
       "    (35, 48, 'region'),\n",
       "    (52, 97, 'relative location')]}),\n",
       " ('Road construction, left lane closed in Channelview on I-10 E Fwy Inbound at Sheldon, stop and go traffic back to Cedar Ln, delay of 3 mins',\n",
       "  {'entities': [(0, 17, 'delay reason'),\n",
       "    (19, 35, 'closure'),\n",
       "    (36, 50, 'region'),\n",
       "    (54, 83, 'relative location')]}),\n",
       " ('Slow and steady. HOVs are closed, so 214 and others are detouring as necessary. Expect significant delays. ^B',\n",
       "  {'entities': [(17, 32, 'closure')]}),\n",
       " ('IH-45 Gulf  Northbound crash with 3 lanes closed. Expect Delays. houtraffic CC9',\n",
       "  {'entities': [(34, 48, 'closure'), (23, 28, 'delay reason')]}),\n",
       " ('Closed due to heavy truck accident with a spill in Rosenberg on 69 SW Fwy NB between Hwy 36 and Reading Rd., sto... ',\n",
       "  {'entities': [(0, 47, 'delay reason'),\n",
       "    (51, 60, 'region'),\n",
       "    (64, 107, 'relative location')]}),\n",
       " ('Road construction. two right lanes closed in NwSide on US-290 WB from Jones Rd. to W Rd., stop and go traffic ba... ',\n",
       "  {'entities': [(19, 41, 'closure'),\n",
       "    (0, 17, 'delay reason'),\n",
       "    (45, 51, 'region'),\n",
       "    (54, 88, 'relative location')]}),\n",
       " ('Closed due to accident in GreenwayUpperKirby on 69 SW Fwy Inbound approaching Spur 527 and before Fannin, stopped traffic back to Edloe',\n",
       "  {'entities': [(0, 22, 'delay reason'),\n",
       "    (26, 44, 'region'),\n",
       "    (48, 104, 'relative location')]}),\n",
       " ('All lanes closed due to hazmat spill in NewCaney on Hwy 1485 EB at Stephens Forest Rd. traffic ',\n",
       "  {'entities': [(0, 16, 'closure'),\n",
       "    (17, 36, 'delay reason'),\n",
       "    (40, 48, 'region'),\n",
       "    (52, 85, 'relative location')]}),\n",
       " ('FLOODING ALONG THE BRAZOS: People in the Angleton area, who have flooded several times before, are concerned that the water is dangerously too close to their homes. ',\n",
       "  {'entities': [(41, 49, 'region')]}),\n",
       " ('TOTAL CLOSURE: SH-146 southbound mainlanes are closed at Shoreacres/Choate as police investigate an incident. We do not have an estimated time on when the roadway will open but will update you here once it does. Please avoid the area if possible and expect delays.',\n",
       "  {'entities': [(57, 74, 'relative location'),\n",
       "    (15, 21, 'relative location'),\n",
       "    (22, 53, 'closure'),\n",
       "    (78, 108, 'delay reason')]}),\n",
       " ('Closed due to ice in RosenbergSugarland on US-69 NB between Hwy 99 and Murphy traffic ',\n",
       "  {'entities': [(43, 77, 'relative location'), (7, 17, 'delay reason')]}),\n",
       " ('I-45 Gulf Freeway (SB) at I-69: All mainlanes closed for construction beginning at 9pm Fri, March 15 until 5am Monday, March 18. Traffic will detour to I-69 NB or SB. Also, I-69 (NB) at I-45: All mainlanes closed from 9pm tonight until 5am Monday. ',\n",
       "  {'entities': [(0, 30, 'relative location'),\n",
       "    (33, 52, 'closure'),\n",
       "    (57, 69, 'delay reason')]}),\n",
       " ('Connecting ramp closed due to ice on Hwy 288 S Fwy Inbound at The S Lp traffic ',\n",
       "  {'entities': [(0, 23, 'closure'),\n",
       "    (23, 33, 'delay reason'),\n",
       "    (37, 70, 'relative location')]}),\n",
       " ('Closed due to road construction in SeSide on 45 Gulf Fwy SB between Woodridge and 610 S Lp traffic ',\n",
       "  {'entities': [(7, 31, 'delay reason'),\n",
       "    (35, 42, 'region'),\n",
       "    (45, 90, 'relative location')]}),\n",
       " ('Closed due to accident in NorthSide on I-45 SB between Parker and Tidwell Rd. traffic ',\n",
       "  {'entities': [(7, 22, 'delay reason'),\n",
       "    (26, 35, 'region'),\n",
       "    (39, 77, 'relative location')]}),\n",
       " ('Closed due to accident in Hockley on 290 NW Fwy Outbound at Warren Ranch Rd traffic ',\n",
       "  {'entities': [(7, 22, 'delay reason'),\n",
       "    (26, 33, 'region'),\n",
       "    (37, 75, 'relative location')]}),\n",
       " ('Icy road conditions has the highway closed in NorthSide on 45 N Freewat NB between The 610 N Lp and Crosstimbers traffic',\n",
       "  {'entities': [(0, 19, 'delay reason'),\n",
       "    (28, 42, 'closure'),\n",
       "    (46, 55, 'region'),\n",
       "    (59, 113, 'relative location')]}),\n",
       " ('Road construction, left lane closed in Harris on Hwy 288 NB before Yellowstone, delay of 7 mins traffic ',\n",
       "  {'entities': [(0, 17, 'delay reason'),\n",
       "    (19, 35, 'closure'),\n",
       "    (39, 45, 'region'),\n",
       "    (49, 78, 'relative location')]}),\n",
       " ('Closed due to accident in Harris on 69 SW Fwy Frontage Rd WB between Kirby Dr and Weslayan St traffic ',\n",
       "  {'entities': [(26, 32, 'region'),\n",
       "    (0, 22, 'delay reason'),\n",
       "    (36, 93, 'relative location')]}),\n",
       " ('TRAFFIC ALERT: MAJOR ACCIDENT I-10 EAST FREEWAY WB  LEFT LANES CLOSED. EXPECT DELAYS. HOUTRAFFIC',\n",
       "  {'entities': [(30, 50, 'relative location'),\n",
       "    (52, 69, 'closure'),\n",
       "    (15, 29, 'delay reason')]}),\n",
       " ('Closed due to road construction in Harris on 290 NW Fwy WB from W 34th St to Pinemont Dr traffic ',\n",
       "  {'entities': [(35, 41, 'region'),\n",
       "    (7, 31, 'delay reason'),\n",
       "    (45, 88, 'relative location')]}),\n",
       " ('Crews have completed their inspections. All WB mainlanes of I-10 East at Waco are now open. A right NB lane on the Waco bridge will be closed until further notice. Repairs will be scheduled soon. ',\n",
       "  {'entities': [(60, 77, 'relative location'), (100, 141, 'closure')]}),\n",
       " ('Closed due to flooding in WestSide on Hwy 6 NB between I-10 and Clay Rd. traffic ',\n",
       "  {'entities': [(26, 34, 'region'), (38, 72, 'relative location')]}),\n",
       " ('Closed due to accident in SwSide on 69 SW Fwy SB between Hillcroft and Bellaire Blvd, stopped traffic back to The Westpark Tollway traffic',\n",
       "  {'entities': [(7, 22, 'delay reason'),\n",
       "    (26, 32, 'region'),\n",
       "    (36, 84, 'relative location')]}),\n",
       " ('', {'entities': []})]"
      ]
     },
     "execution_count": 41,
     "metadata": {},
     "output_type": "execute_result"
    }
   ],
   "source": [
    "training_data_ner"
   ]
  },
  {
   "cell_type": "code",
   "execution_count": 65,
   "metadata": {},
   "outputs": [
    {
     "data": {
      "text/plain": [
       "'closures'"
      ]
     },
     "execution_count": 65,
     "metadata": {},
     "output_type": "execute_result"
    }
   ],
   "source": [
    "model"
   ]
  },
  {
   "cell_type": "code",
   "execution_count": null,
   "metadata": {},
   "outputs": [],
   "source": [
    "## Extracting Locations from spaCy labels of tweets"
   ]
  }
 ],
 "metadata": {
  "kernelspec": {
   "display_name": "Python 3",
   "language": "python",
   "name": "python3"
  },
  "language_info": {
   "codemirror_mode": {
    "name": "ipython",
    "version": 3
   },
   "file_extension": ".py",
   "mimetype": "text/x-python",
   "name": "python",
   "nbconvert_exporter": "python",
   "pygments_lexer": "ipython3",
   "version": "3.7.4"
  }
 },
 "nbformat": 4,
 "nbformat_minor": 2
}
